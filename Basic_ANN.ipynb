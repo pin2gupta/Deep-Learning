{
  "nbformat": 4,
  "nbformat_minor": 0,
  "metadata": {
    "colab": {
      "name": "Basic ANN.ipynb",
      "provenance": [],
      "authorship_tag": "ABX9TyPacG5eHaIiW0JrIrlSbnO+",
      "include_colab_link": true
    },
    "kernelspec": {
      "name": "python3",
      "display_name": "Python 3"
    },
    "language_info": {
      "name": "python"
    }
  },
  "cells": [
    {
      "cell_type": "markdown",
      "metadata": {
        "id": "view-in-github",
        "colab_type": "text"
      },
      "source": [
        "<a href=\"https://colab.research.google.com/github/pin2gupta/Deep-Learning/blob/main/Basic_ANN.ipynb\" target=\"_parent\"><img src=\"https://colab.research.google.com/assets/colab-badge.svg\" alt=\"Open In Colab\"/></a>"
      ]
    },
    {
      "cell_type": "markdown",
      "metadata": {
        "id": "Jf3P40sZCjGG"
      },
      "source": [
        "## What is Neural Network?\n",
        "Neural Networks are the represntation of the Human brain. These neurons are connected to each other and forms a network. The connection is a transformation of the infomation to many layers to make a thing \"drive a car\"\n",
        "\n",
        "The entire neural network works on simple phenomena; we provide input variables, the next level of neural network which is also referred as hidden layer perfom some mathematical operation and produces the reuslt to the next level. The final layer is the output layer which is actually the desired result. \n",
        "\n",
        "If there are more than one hiden layer then it is referred as Deep Neural Network. \n",
        "\n",
        "The Neural Networks are read from left to right. \n",
        "\n"
      ]
    },
    {
      "cell_type": "code",
      "metadata": {
        "id": "GPyx-TxdCx6X"
      },
      "source": [
        ""
      ],
      "execution_count": null,
      "outputs": []
    }
  ]
}