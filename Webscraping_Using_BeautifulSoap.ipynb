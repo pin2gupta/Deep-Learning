{
  "nbformat": 4,
  "nbformat_minor": 0,
  "metadata": {
    "colab": {
      "name": "Webscraping_Using BeautifulSoap.ipynb",
      "provenance": [],
      "collapsed_sections": [],
      "authorship_tag": "ABX9TyPxBBlcvbVbtSXwvOcKjlrk",
      "include_colab_link": true
    },
    "kernelspec": {
      "name": "python3",
      "display_name": "Python 3"
    },
    "language_info": {
      "name": "python"
    }
  },
  "cells": [
    {
      "cell_type": "markdown",
      "metadata": {
        "id": "view-in-github",
        "colab_type": "text"
      },
      "source": [
        "<a href=\"https://colab.research.google.com/github/pin2gupta/Deep-Learning/blob/main/Webscraping_Using_BeautifulSoap.ipynb\" target=\"_parent\"><img src=\"https://colab.research.google.com/assets/colab-badge.svg\" alt=\"Open In Colab\"/></a>"
      ]
    },
    {
      "cell_type": "code",
      "metadata": {
        "colab": {
          "base_uri": "https://localhost:8080/"
        },
        "id": "2JPIPPTXiOdb",
        "outputId": "ff63aa76-1df7-4f35-8c4a-d5f3d2213e88"
      },
      "source": [
        "#install beaitufulsoap\n",
        "!pip install beautifulsoup4"
      ],
      "execution_count": 7,
      "outputs": [
        {
          "output_type": "stream",
          "name": "stdout",
          "text": [
            "Requirement already satisfied: beautifulsoup4 in /usr/local/lib/python3.7/dist-packages (4.6.3)\n"
          ]
        }
      ]
    },
    {
      "cell_type": "code",
      "metadata": {
        "id": "ZQB4pe_6pgFb"
      },
      "source": [
        "from bs4 import BeautifulSoup\n",
        "import requests\n",
        "\n",
        "url = \"https://en.wikipedia.org/wiki/Crazy,_Stupid,_Love\"\n",
        "req = requests.get(url)\n",
        "#soup = BeautifulSoup(req.text,\"html.parser\")\n",
        "#print(soup.title)"
      ],
      "execution_count": 21,
      "outputs": []
    },
    {
      "cell_type": "code",
      "metadata": {
        "id": "RNNhtFqKrKgv"
      },
      "source": [
        "# Extract all the URL's within webpage\n",
        "for link in soup.find_all('a'):\n",
        "  print(link.get('href'))"
      ],
      "execution_count": null,
      "outputs": []
    },
    {
      "cell_type": "code",
      "metadata": {
        "colab": {
          "base_uri": "https://localhost:8080/"
        },
        "id": "HBHXJABFrnMY",
        "outputId": "f59218f3-7c44-4c03-f704-a8a7375e2822"
      },
      "source": [
        "# Tag\n",
        "soup = BeautifulSoup('<b class=\"boldest\">TutorialsPoint</b>')\n",
        "tag = soup.html\n",
        "print(tag)\n",
        "\n",
        "tag1 = soup.name\n",
        "print(tag1)\n",
        "\n",
        "tutorialsP = BeautifulSoup(\"<div class='tutorialsP'></div>\",'lxml')\n",
        "tag2 = tutorialsP.div\n",
        "print(tag2)"
      ],
      "execution_count": 25,
      "outputs": [
        {
          "output_type": "stream",
          "name": "stdout",
          "text": [
            "<html><body><b class=\"boldest\">TutorialsPoint</b></body></html>\n",
            "[document]\n",
            "<div class=\"tutorialsP\"></div>\n"
          ]
        }
      ]
    },
    {
      "cell_type": "code",
      "metadata": {
        "id": "ZoYMSwUl762s"
      },
      "source": [
        "# Navigable String"
      ],
      "execution_count": null,
      "outputs": []
    },
    {
      "cell_type": "code",
      "metadata": {
        "id": "h7rPMI2s77Lz"
      },
      "source": [
        "# Beutiful Soup"
      ],
      "execution_count": null,
      "outputs": []
    },
    {
      "cell_type": "code",
      "metadata": {
        "id": "URS34kjY77dE"
      },
      "source": [
        "# Comments"
      ],
      "execution_count": null,
      "outputs": []
    }
  ]
}