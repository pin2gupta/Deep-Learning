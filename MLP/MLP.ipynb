{
  "nbformat": 4,
  "nbformat_minor": 0,
  "metadata": {
    "colab": {
      "name": "MLP.ipynb",
      "provenance": [],
      "authorship_tag": "ABX9TyO+NdVq+u10R6iIFALGtjx1",
      "include_colab_link": true
    },
    "kernelspec": {
      "name": "python3",
      "display_name": "Python 3"
    },
    "language_info": {
      "name": "python"
    }
  },
  "cells": [
    {
      "cell_type": "markdown",
      "metadata": {
        "id": "view-in-github",
        "colab_type": "text"
      },
      "source": [
        "<a href=\"https://colab.research.google.com/github/pin2gupta/Deep-Learning/blob/main/MLP/MLP.ipynb\" target=\"_parent\"><img src=\"https://colab.research.google.com/assets/colab-badge.svg\" alt=\"Open In Colab\"/></a>"
      ]
    },
    {
      "cell_type": "code",
      "metadata": {
        "id": "illzOvAzJNXU"
      },
      "source": [
        ""
      ],
      "execution_count": null,
      "outputs": []
    },
    {
      "cell_type": "markdown",
      "metadata": {
        "id": "6Vg-BdMQJN9R"
      },
      "source": [
        "Multilayer Perceptrons, or MLPs for short, are the classical type of neural network.\n",
        "\n",
        "They are comprised of one or more layers of neurons. Data is fed to the input layer, there may be one or more hidden layers providing levels of abstraction, and predictions are made on the output layer, also called the visible layer.\n",
        "\n",
        "MLPs are suitable for classification prediction problems where inputs are assigned a class or label.\n",
        "\n",
        "They are also suitable for regression prediction problems where a real-valued quantity is predicted given a set of inputs. Data is often provided in a tabular format, such as you would see in a CSV file or a spreadsheet.\n",
        "\n",
        "Use MLPs For:\n",
        "\n",
        "Tabular datasets\n",
        "Classification prediction problems\n",
        "Regression prediction problems\n",
        "They are very flexible and can be used generally to learn a mapping from inputs to outputs.\n",
        "\n",
        "This flexibility allows them to be applied to other types of data. For example, the pixels of an image can be reduced down to one long row of data and fed into a MLP. The words of a document can also be reduced to one long row of data and fed to a MLP. Even the lag observations for a time series prediction problem can be reduced to a long row of data and fed to a MLP.\n",
        "\n",
        "As such, if your data is in a form other than a tabular dataset, such as an image, document, or time series, I would recommend at least testing an MLP on your problem. The results can be used as a baseline point of comparison to confirm that other models that may appear better suited add value.\n",
        "\n",
        "Try MLPs On:\n",
        "\n",
        "Image data\n",
        "Text Data\n",
        "Time series data\n",
        "Other types of data\n"
      ]
    },
    {
      "cell_type": "markdown",
      "metadata": {
        "id": "-BlT-1uKK5rr"
      },
      "source": [
        "### **Reference:**\n",
        "\n",
        "[When to Use MLP, CNN, and RNN Neural Networks](https://machinelearningmastery.com/when-to-use-mlp-cnn-and-rnn-neural-networks/)"
      ]
    }
  ]
}