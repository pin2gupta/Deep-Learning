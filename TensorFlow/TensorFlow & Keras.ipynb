{
  "nbformat": 4,
  "nbformat_minor": 0,
  "metadata": {
    "colab": {
      "name": "TensorFlow.ipynb",
      "provenance": [],
      "authorship_tag": "ABX9TyP8ac5Ju8kwIjBlrqm90xYw",
      "include_colab_link": true
    },
    "kernelspec": {
      "name": "python3",
      "display_name": "Python 3"
    },
    "language_info": {
      "name": "python"
    }
  },
  "cells": [
    {
      "cell_type": "markdown",
      "metadata": {
        "id": "view-in-github",
        "colab_type": "text"
      },
      "source": [
        "<a href=\"https://colab.research.google.com/github/pin2gupta/Deep-Learning/blob/main/TensorFlow/TensorFlow%20%26%20Keras.ipynb\" target=\"_parent\"><img src=\"https://colab.research.google.com/assets/colab-badge.svg\" alt=\"Open In Colab\"/></a>"
      ]
    },
    {
      "cell_type": "code",
      "metadata": {
        "id": "OX3t_-MZJ9eJ"
      },
      "source": [
        ""
      ],
      "execution_count": null,
      "outputs": []
    },
    {
      "cell_type": "markdown",
      "metadata": {
        "id": "eU9ScIw_P5mT"
      },
      "source": [
        "## What is Tensor Flow?\n",
        "\n",
        "Keras is a model-level library, providing high-level building blocks for developing deep-learning models. It doesn’t handle low-level operations such as tensor manipulation and differentiation. Instead, it relies on a specialized, well-optimized tensor library to do so, serving as the backend engine of Keras. Rather than choosing a single tensor library and tying the implementation of Keras to that library, Keras handles th problem in a modular way ; thus several different backend engines can be plugged seamlessly into Keras. Currently, the three existing backend implementations are the TensorFlow backend, the Theano backend, and the Microsoft Cognitive\n"
      ]
    },
    {
      "cell_type": "markdown",
      "metadata": {
        "id": "7pkgBET9Pv_j"
      },
      "source": [
        "## Reference:\n",
        "\n",
        "- [Book - Deep Learning with Python](https://drive.google.com/drive/u/0/folders/15RQW5G4t7U8scfeHLLD2G2_Efidb4ZdG)"
      ]
    }
  ]
}