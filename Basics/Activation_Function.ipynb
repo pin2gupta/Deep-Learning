{
  "nbformat": 4,
  "nbformat_minor": 0,
  "metadata": {
    "colab": {
      "name": "Activation Function.ipynb",
      "provenance": [],
      "authorship_tag": "ABX9TyP7rR7q7+qMRi9mUyeXYqOj",
      "include_colab_link": true
    },
    "kernelspec": {
      "name": "python3",
      "display_name": "Python 3"
    },
    "language_info": {
      "name": "python"
    }
  },
  "cells": [
    {
      "cell_type": "markdown",
      "metadata": {
        "id": "view-in-github",
        "colab_type": "text"
      },
      "source": [
        "<a href=\"https://colab.research.google.com/github/pin2gupta/Deep-Learning/blob/main/Basics/Activation_Function.ipynb\" target=\"_parent\"><img src=\"https://colab.research.google.com/assets/colab-badge.svg\" alt=\"Open In Colab\"/></a>"
      ]
    },
    {
      "cell_type": "code",
      "metadata": {
        "id": "9DkukoijFUl5"
      },
      "source": [
        "## What is activation functions?\n",
        "\n",
        "Deep learning is a type of machine learning that can process a wider range of data res\n",
        "\n",
        "## What are types of activation function?\n",
        "\n",
        "\n",
        "## How to choosed different activation function?"
      ],
      "execution_count": null,
      "outputs": []
    }
  ]
}