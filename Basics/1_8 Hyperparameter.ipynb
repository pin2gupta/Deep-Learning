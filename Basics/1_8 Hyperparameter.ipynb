{
  "nbformat": 4,
  "nbformat_minor": 0,
  "metadata": {
    "colab": {
      "name": "1.8 Hyperparameter.ipynb",
      "provenance": [],
      "authorship_tag": "ABX9TyOSb+qq0hmCZP3SzySCnReE",
      "include_colab_link": true
    },
    "kernelspec": {
      "name": "python3",
      "display_name": "Python 3"
    },
    "language_info": {
      "name": "python"
    }
  },
  "cells": [
    {
      "cell_type": "markdown",
      "metadata": {
        "id": "view-in-github",
        "colab_type": "text"
      },
      "source": [
        "<a href=\"https://colab.research.google.com/github/pin2gupta/Deep-Learning/blob/main/Basics/1_8%20Hyperparameter.ipynb\" target=\"_parent\"><img src=\"https://colab.research.google.com/assets/colab-badge.svg\" alt=\"Open In Colab\"/></a>"
      ]
    },
    {
      "cell_type": "markdown",
      "metadata": {
        "id": "jpSroAtq_3Nn"
      },
      "source": [
        "Hyperparameters are the variables which determines the network structure(Eg: Number of Hidden Units) and the variables which determine how the network is trained(Eg: Learning Rate).\n",
        "Hyperparameters are set before training(before optimizing the weights and bias)."
      ]
    },
    {
      "cell_type": "markdown",
      "metadata": {
        "id": "14gtVGwdAHa_"
      },
      "source": [
        "### **Reference:**\n",
        "\n",
        "[Simple Guide to Hyperparameter Tuning in Neural Networks](https://towardsdatascience.com/simple-guide-to-hyperparameter-tuning-in-neural-networks-3fe03dad8594)\n",
        "\n",
        "[What are Hyperparameters ? and How to tune the Hyperparameters in a Deep Neural Network?](https://towardsdatascience.com/what-are-hyperparameters-and-how-to-tune-the-hyperparameters-in-a-deep-neural-network-d0604917584a)"
      ]
    }
  ]
}