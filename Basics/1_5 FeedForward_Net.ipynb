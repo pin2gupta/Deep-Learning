{
  "nbformat": 4,
  "nbformat_minor": 0,
  "metadata": {
    "colab": {
      "name": "1.5 FeedForward Net.ipynb",
      "provenance": [],
      "authorship_tag": "ABX9TyNdlXVfkoaeTwcZCKEuxRDc",
      "include_colab_link": true
    },
    "kernelspec": {
      "name": "python3",
      "display_name": "Python 3"
    },
    "language_info": {
      "name": "python"
    }
  },
  "cells": [
    {
      "cell_type": "markdown",
      "metadata": {
        "id": "view-in-github",
        "colab_type": "text"
      },
      "source": [
        "<a href=\"https://colab.research.google.com/github/pin2gupta/Deep-Learning/blob/main/Basics/1_5%20FeedForward_Net.ipynb\" target=\"_parent\"><img src=\"https://colab.research.google.com/assets/colab-badge.svg\" alt=\"Open In Colab\"/></a>"
      ]
    },
    {
      "cell_type": "code",
      "metadata": {
        "id": "3FFblLcaZT0D"
      },
      "source": [
        ""
      ],
      "execution_count": null,
      "outputs": []
    },
    {
      "cell_type": "markdown",
      "metadata": {
        "id": "D5aE0Xctitt5"
      },
      "source": [
        "##**Feed Forward Neural Network**\n"
      ]
    },
    {
      "cell_type": "markdown",
      "metadata": {
        "id": "delQVKEfiufa"
      },
      "source": [
        "Referecnes:\n",
        "\n",
        "1. [Deep Learning: Feedforward Neural Network](https://towardsdatascience.com/deep-learning-feedforward-neural-network-26a6705dbdc7)\n",
        "2.[Deep Learning- Page 167](https://www.deeplearningbook.org/)\n",
        "3.[Using neural nets to recognize handwritten digits](http://neuralnetworksanddeeplearning.com/chap1.html#perceptrons)"
      ]
    },
    {
      "cell_type": "markdown",
      "metadata": {
        "id": "ORCd5vR8itkT"
      },
      "source": [
        ""
      ]
    }
  ]
}