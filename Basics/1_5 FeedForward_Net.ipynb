{
  "nbformat": 4,
  "nbformat_minor": 0,
  "metadata": {
    "colab": {
      "name": "1.5 FeedForward Net.ipynb",
      "provenance": [],
      "authorship_tag": "ABX9TyMz9N9A/I6p72tMYHlxwKpj",
      "include_colab_link": true
    },
    "kernelspec": {
      "name": "python3",
      "display_name": "Python 3"
    },
    "language_info": {
      "name": "python"
    }
  },
  "cells": [
    {
      "cell_type": "markdown",
      "metadata": {
        "id": "view-in-github",
        "colab_type": "text"
      },
      "source": [
        "<a href=\"https://colab.research.google.com/github/pin2gupta/Deep-Learning/blob/main/Basics/1_5%20FeedForward_Net.ipynb\" target=\"_parent\"><img src=\"https://colab.research.google.com/assets/colab-badge.svg\" alt=\"Open In Colab\"/></a>"
      ]
    },
    {
      "cell_type": "code",
      "metadata": {
        "id": "3FFblLcaZT0D"
      },
      "source": [
        ""
      ],
      "execution_count": null,
      "outputs": []
    },
    {
      "cell_type": "markdown",
      "metadata": {
        "id": "D5aE0Xctitt5"
      },
      "source": [
        "##**Feed Forward Neural Network**\n",
        "We are kind of given the input layer to us by the dataset that we input, but what about the layers afterwards? What happens is just a lot of ping-ponging of numbers, it is nothing more than basic math operations. We look at all the neurons in the input layer, which are connected to a new neuron in the next layer (which is a hidden layer).\n",
        "\n",
        "Remember this: each neuron has an activation a and each neuron that is connected to a new neuron has a weight w. Activations are typically a number within the range of 0 to 1, and the weight is a double, e.g. 2.2, -1.2, 0.4 etc."
      ]
    },
    {
      "cell_type": "markdown",
      "metadata": {
        "id": "delQVKEfiufa"
      },
      "source": [
        "Referecnes:\n",
        "\n",
        "1.[Deep Learning: Feedforward Neural Network](https://towardsdatascience.com/deep-learning-feedforward-neural-network-26a6705dbdc7)\n",
        "\n",
        "2.[Deep Learning- Page 167](https://www.deeplearningbook.org/)\n",
        "\n",
        "3.[Using neural nets to recognize handwritten digits](http://neuralnetworksanddeeplearning.com/chap1.html#perceptrons)\n",
        "\n",
        "4.[Feed Forward](https://mlfromscratch.com/neural-networks-explained/#from-input-layer-to-hidden-layer)"
      ]
    },
    {
      "cell_type": "markdown",
      "metadata": {
        "id": "ORCd5vR8itkT"
      },
      "source": [
        ""
      ]
    }
  ]
}