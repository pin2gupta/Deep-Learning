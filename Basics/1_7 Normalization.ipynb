{
  "nbformat": 4,
  "nbformat_minor": 0,
  "metadata": {
    "colab": {
      "name": "1.7 Normalization.ipynb",
      "provenance": [],
      "authorship_tag": "ABX9TyNtnZhgE26mftkyO87mqdhr",
      "include_colab_link": true
    },
    "kernelspec": {
      "name": "python3",
      "display_name": "Python 3"
    },
    "language_info": {
      "name": "python"
    }
  },
  "cells": [
    {
      "cell_type": "markdown",
      "metadata": {
        "id": "view-in-github",
        "colab_type": "text"
      },
      "source": [
        "<a href=\"https://colab.research.google.com/github/pin2gupta/Deep-Learning/blob/main/Basics/1_7%20Normalization.ipynb\" target=\"_parent\"><img src=\"https://colab.research.google.com/assets/colab-badge.svg\" alt=\"Open In Colab\"/></a>"
      ]
    },
    {
      "cell_type": "markdown",
      "metadata": {
        "id": "8RDrQqo6-eEp"
      },
      "source": [
        "## **Normaliztion** \n",
        "is the techniques used to decrease the training time of the neural network. \n",
        "\n",
        "##**Different type of normalization**\n",
        "- Batch Normalization\n",
        "- Weight Normalization\n",
        "- Layer Normalization\n",
        "- Group Normalization\n",
        "- Weight Standarization"
      ]
    },
    {
      "cell_type": "markdown",
      "metadata": {
        "id": "ANtvwoBO9opi"
      },
      "source": [
        "###**Reference:**\n",
        "\n",
        "[Normalization Techniques in Deep Neural Networks](https://medium.com/techspace-usict/normalization-techniques-in-deep-neural-networks-9121bf100d8)\n",
        "\n",
        "[Different Normalization Layers in Deep Learning](https://towardsdatascience.com/different-normalization-layers-in-deep-learning-1a7214ff71d6)"
      ]
    }
  ]
}