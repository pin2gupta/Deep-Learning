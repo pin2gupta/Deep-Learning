{
  "nbformat": 4,
  "nbformat_minor": 0,
  "metadata": {
    "colab": {
      "name": "1.0 Basic of ANN.ipynb",
      "provenance": [],
      "authorship_tag": "ABX9TyN4A/CidxZ+EibA0QEX/rVS",
      "include_colab_link": true
    },
    "kernelspec": {
      "name": "python3",
      "display_name": "Python 3"
    },
    "language_info": {
      "name": "python"
    }
  },
  "cells": [
    {
      "cell_type": "markdown",
      "metadata": {
        "id": "view-in-github",
        "colab_type": "text"
      },
      "source": [
        "<a href=\"https://colab.research.google.com/github/pin2gupta/Deep-Learning/blob/main/Basics/1_0_Basic_of_ANN.ipynb\" target=\"_parent\"><img src=\"https://colab.research.google.com/assets/colab-badge.svg\" alt=\"Open In Colab\"/></a>"
      ]
    },
    {
      "cell_type": "code",
      "metadata": {
        "id": "iOn_YrOdNzM9"
      },
      "source": [
        ""
      ],
      "execution_count": null,
      "outputs": []
    },
    {
      "cell_type": "markdown",
      "metadata": {
        "id": "LYM6yODVJoIT"
      },
      "source": [
        "## What is Deep Learning?\n",
        "\n",
        "Deep learning is a type of machine learning that can process a wider range of data resources, requires less data preprocessing by humans, and can often producr more accurate results then traditional machine learning approaches.\n",
        "\n",
        "![](https://drive.google.com/uc?export=view&id=1EAijEO2KXNf4M5WaOKV97Dlhk-SBdSH8)\n"
      ]
    },
    {
      "cell_type": "markdown",
      "metadata": {
        "id": "Jf3P40sZCjGG"
      },
      "source": [
        "## What is a Neural Network?\n",
        "Neural Networks are the representation of the Human brain. These neurons are connected to each other and form a network. The connection is a transformation of the information to many layers to make a thing \"drive a car\"\n",
        " \n",
        "The entire neural network works on simple phenomena; we provide input variables, the next level of the neural network which is also referred as the hidden layer performs some mathematical operation and produces the result to the next level. The final layer is the output layer which is actually the desired result.\n",
        " \n",
        "![](https://drive.google.com/uc?export=view&id=1weA60u0H2SAKtUfQhePKWDNcjlrnKXNA)\n",
        " \n",
        "                       Figure - 1\n",
        " \n",
        "If there are more than one hidden layer then it is referred as Deep Neural Network as in the above example.\n",
        " \n",
        "The Neural Networks are read from left to right. The internal layers are connected to one before and one after layers. If the layer is n then it will be connected to n-1 or n+1 layer.\n",
        " \n",
        "## How do neurons operate?\n",
        " \n",
        "The basic actors of the neuron network are Input Layer, Hidden Layer Weights, Bias, Activation function and Output Layer.\n",
        " \n",
        "![](https://drive.google.com/uc?export=view&id=1SMlT7l0pbctnFmCSwsUoWIalGiyaNkvy)\n",
        " \n",
        " \n",
        "                         Figure - 2\n",
        " \n",
        " \n",
        "**Input Layer** are the variables which we feed to the network. The number of neurons is the number of inputs we feed to the network. There is no computation being done on the input layer. They are usually represented as $x_{1},x_{2},x_{3}....x_{n}$\n",
        " \n",
        "**Hidden Layer** is the layer/s between input and output layer. The hidden layers are the layers where all the computation, processing is performed. They derive the complex relationship between Input and Output layer. They identify the data patterns in the dataset. They are also responsible for extracting important features and either transforming it to the next layer or to the output layer.\n",
        " \n",
        "The number of hidden layers can be chosen based on the complexity of the problem.\n",
        " \n",
        "**Output layer** is the result layer. The number of output layers is based on the type of problem we want our network to resolve.\n",
        " \n",
        "If it is a *binary classification*, then the number of neurons in the output layer is one that tells us which class the input belongs to.\n",
        " \n",
        "If it is a *multi-class classification* say, with five classes, and if we want to get the probability of each class as an output, then the number of neurons in the output layer is five, each emitting the probability.\n",
        " \n",
        "If it is a *regression* problem, then we have one neuron in the output layer.\n",
        " \n",
        "**Weights** The weights are used to strengthening the inputs by multiplying it to the inputs. These are the only values which could be changed during the learning process. The reason for multiplying is to provide more weightage to the input variable. The more important the input variable , higher the weight values.\n",
        "The weights are represented as $w_{1},w_{2},w_{3}....w_{n}$\n",
        " \n",
        "Sum the weights after it has been multiplied which is represented as Z\n",
        "$z=x_{1}*w_{1}+x_{2}*w_{2}+x_{3}*w_{3}.....x_{n}*w_{n}$\n",
        " \n",
        "This is nothing but the equation of straight line\n",
        " \n",
        "$z=mx+c$\n",
        "where *m* is the weight (coefficient), *x* is the input and c is the bias (intercept).\n",
        " \n",
        "**Bias** is the constant which is added to adjust the output of the neuron. The value is chosen to shift the activation function to either right or left to delay the triggering of the activation function.\n",
        "If it is absent then the line will pass through (0,0) and it will be a poorer fit.\n",
        " \n",
        "$z=x_{1}*w_{1}+x_{2}*w_{2}+x_{3}*w_{3}.....x_{n}*w_{n} + b$\n",
        " \n",
        "**Activation Function** The activation function is the non-linear transformation that we do over the input before sending it to the next layer of neurons or finalizing the output.\n",
        "The neurons do not know the bounds of the value. So to decide whether the output result should be fired or not , we use the activation function.\n",
        " \n",
        "Hence, this is what all neurons do; it takes all values from connected neurons multiplied by their respective weights; add them and apply an activation function. The neuron is ready to send the value to the other layer.\n",
        " \n",
        " \n",
        "##How does a neuron learn?\n",
        "In a simple statement, neurons do not learn on the first try by themselves. During the learning phase, every input comes with a label which explains what output should be guessed. If the output obtained is good then actual parameters are kept. But if they do not match then the weights are changed and then produced the output. This process is called backpropagation.\n",
        "\n",
        "There is another basic concept which is important with neural network is the learning rate. This determins at what speed the neural netwoek learns; how it will modify the wirghts.\n"
      ]
    },
    {
      "cell_type": "code",
      "metadata": {
        "id": "GPyx-TxdCx6X"
      },
      "source": [
        ""
      ],
      "execution_count": null,
      "outputs": []
    }
  ]
}